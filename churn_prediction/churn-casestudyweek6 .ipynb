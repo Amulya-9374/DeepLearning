{
 "cells": [
  {
   "cell_type": "code",
   "execution_count": 43,
   "id": "879a1bfa",
   "metadata": {},
   "outputs": [],
   "source": [
    "import pandas as pd\n",
    "import numpy as np\n",
    "import matplotlib.pyplot as plt\n",
    "import seaborn as sns\n",
    "from sklearn.model_selection import train_test_split\n",
    "from sklearn.preprocessing import StandardScaler, OneHotEncoder\n",
    "from sklearn.impute import SimpleImputer\n",
    "from collections import Counter\n",
    "from imblearn.over_sampling import SMOTE\n",
    "from sklearn.decomposition import TruncatedSVD\n",
    "from sklearn.ensemble import RandomForestClassifier\n",
    "import tensorflow as tf\n",
    "from tensorflow.keras.models import Sequential\n",
    "from tensorflow.keras.layers import Dense, Dropout\n",
    "from tensorflow.keras.optimizers import Adam\n",
    "from tensorflow.keras.callbacks import EarlyStopping\n",
    "from sklearn.metrics import accuracy_score, confusion_matrix, classification_report\n",
    "from scipy.sparse import hstack\n",
    "import joblib\n"
   ]
  },
  {
   "cell_type": "code",
   "execution_count": 2,
   "id": "78a7691c",
   "metadata": {},
   "outputs": [],
   "source": [
    "#loading the dataset\n",
    "data = pd.read_csv(\"bank_data_train.csv\")"
   ]
  },
  {
   "cell_type": "code",
   "execution_count": 8,
   "id": "665e0b9b",
   "metadata": {},
   "outputs": [],
   "source": [
    "# Separating the  features and target\n",
    "# x contains all the features from the input\n",
    "X = data.drop(columns=['TARGET'])\n",
    "# y contains the  target features \n",
    "y = data['TARGET']"
   ]
  },
  {
   "cell_type": "code",
   "execution_count": 41,
   "id": "6b4915e4",
   "metadata": {},
   "outputs": [
    {
     "data": {
      "image/png": "[encoded data removed]",
      "text/plain": [
       "<Figure size 800x600 with 1 Axes>"
      ]
     },
     "metadata": {},
     "output_type": "display_data"
    }
   ],
   "source": [
    "#Distribution of target variable using count plot\n",
    "plt.figure(figsize=(8, 6))\n",
    "sns.countplot(x='TARGET', data=data)\n",
    "plt.title('Distribution of Target Variable')\n",
    "plt.xlabel('TARGET')\n",
    "plt.ylabel('Count')\n",
    "plt.show()"
   ]
  },
  {
   "cell_type": "code",
   "execution_count": 15,
   "id": "a4af8576",
   "metadata": {},
   "outputs": [],
   "source": [
    "# List of all numerical columns\n",
    "numerical_columns = ['CR_PROD_CNT_IL', 'AMOUNT_RUB_CLO_PRC', 'PRC_ACCEPTS_A_EMAIL_LINK', \n",
    "                     'APP_REGISTR_RGN_CODE', 'PRC_ACCEPTS_A_POS', 'AGE', 'CLNT_SALARY_VALUE',\n",
    "                     'TURNOVER_DYNAMIC_IL_1M', 'AMOUNT_RUB_SUP_PRC', 'REST_DYNAMIC_FDEP_1M', \n",
    "                     'REST_DYNAMIC_SAVE_3M', 'CR_PROD_CNT_VCU', 'REST_AVG_CUR', 'AMOUNT_RUB_NAS_PRC',\n",
    "                     'TRANS_COUNT_SUP_PRC', 'TRANS_COUNT_NAS_PRC', 'CR_PROD_CNT_TOVR', \n",
    "                     'CR_PROD_CNT_PIL', 'TURNOVER_CC', 'TRANS_COUNT_ATM_PRC', 'AMOUNT_RUB_ATM_PRC', \n",
    "                     'TURNOVER_PAYM', 'AGE', 'CR_PROD_CNT_CC', 'REST_DYNAMIC_FDEP_3M', 'REST_DYNAMIC_IL_1M', \n",
    "                     'CR_PROD_CNT_CCFP', 'REST_DYNAMIC_CUR_1M', 'REST_AVG_PAYM', 'LDEAL_GRACE_DAYS_PCT_MED', \n",
    "                     'REST_DYNAMIC_CUR_3M', 'CNT_TRAN_SUP_TENDENCY3M', 'TURNOVER_DYNAMIC_CUR_1M', \n",
    "                     'REST_DYNAMIC_PAYM_3M', 'SUM_TRAN_SUP_TENDENCY3M', 'REST_DYNAMIC_IL_3M', \n",
    "                     'CNT_TRAN_ATM_TENDENCY3M', 'CNT_TRAN_ATM_TENDENCY1M', 'TURNOVER_DYNAMIC_IL_3M', \n",
    "                     'SUM_TRAN_ATM_TENDENCY3M', 'SUM_TRAN_ATM_TENDENCY1M', 'REST_DYNAMIC_PAYM_1M', \n",
    "                     'TURNOVER_DYNAMIC_CUR_3M', 'CLNT_SETUP_TENOR', 'TURNOVER_DYNAMIC_PAYM_3M', \n",
    "                     'TURNOVER_DYNAMIC_PAYM_1M', 'TRANS_AMOUNT_TENDENCY3M', 'TRANS_CNT_TENDENCY3M', \n",
    "                     'REST_DYNAMIC_CC_1M', 'TURNOVER_DYNAMIC_CC_1M', 'REST_DYNAMIC_CC_3M', \n",
    "                     'TURNOVER_DYNAMIC_CC_3M']"
   ]
  },
  {
   "cell_type": "code",
   "execution_count": 16,
   "id": "1a0d5d7e",
   "metadata": {},
   "outputs": [],
   "source": [
    "# List of all categorical columns\n",
    "categorical_columns = ['APP_MARITAL_STATUS', 'APP_KIND_OF_PROP_HABITATION', 'CLNT_JOB_POSITION', \n",
    "                       'CLNT_TRUST_RELATION', 'APP_DRIVING_LICENSE', 'APP_EDUCATION', \n",
    "                       'APP_POSITION_TYPE', 'APP_EMP_TYPE', 'APP_COMP_TYPE', 'PACK']"
   ]
  },
  {
   "cell_type": "code",
   "execution_count": 17,
   "id": "a672ce20",
   "metadata": {},
   "outputs": [],
   "source": [
    "# Ensure only existing columns \n",
    "#lists of numerical and categorical columns only include columns from the dataframe X.\n",
    "existing_numerical_columns = [col for col in numerical_columns if col in X.columns]\n",
    "existing_categorical_columns = [col for col in categorical_columns if col in X.columns]"
   ]
  },
  {
   "cell_type": "code",
   "execution_count": 18,
   "id": "341a6667",
   "metadata": {},
   "outputs": [],
   "source": [
    "# Checking for missing columns\n",
    "missing_columns = [col for col in numerical_columns + categorical_columns if col not in X.columns]\n",
    "if missing_columns:\n",
    "    print(f\"Missing columns: {missing_columns}\")"
   ]
  },
  {
   "cell_type": "code",
   "execution_count": 19,
   "id": "86ab63a9",
   "metadata": {},
   "outputs": [],
   "source": [
    "# Handle missing values\n",
    "# Creating an  imputer for numerical columns using the strategy median\n",
    "imputer_numerical = SimpleImputer(strategy='median')\n",
    "# Create an imputer for categorical columns using the strategy most frequent\n",
    "imputer_categorical = SimpleImputer(strategy='most_frequent')\n",
    "\n",
    "#Fit the numerical imputer to the numerical columns and transform\n",
    "X[existing_numerical_columns] = imputer_numerical.fit_transform(X[existing_numerical_columns])\n",
    "#Fit the categorical imputer to the existing categorical columns to transform \n",
    "X[existing_categorical_columns] = imputer_categorical.fit_transform(X[existing_categorical_columns])"
   ]
  },
  {
   "cell_type": "code",
   "execution_count": 20,
   "id": "bc20199c",
   "metadata": {},
   "outputs": [],
   "source": [
    "# One-hot encoding for  categorical variables\n",
    "# Create an instance for  OneHotEncoder\n",
    "encoder = OneHotEncoder(sparse=True, handle_unknown='ignore')\n",
    "encoded_categorical = encoder.fit_transform(X[existing_categorical_columns])"
   ]
  },
  {
   "cell_type": "code",
   "execution_count": 23,
   "id": "be131020",
   "metadata": {},
   "outputs": [],
   "source": [
    "# Concatenate numerical and categorical data\n",
    "X_numerical = pd.DataFrame(X[existing_numerical_columns], columns=existing_numerical_columns)\n",
    "X_combined = hstack([X_numerical, encoded_categorical])"
   ]
  },
  {
   "cell_type": "code",
   "execution_count": 24,
   "id": "c07239ee",
   "metadata": {},
   "outputs": [],
   "source": [
    "# Standardize numerical features\n",
    "scaler = StandardScaler(with_mean=False)\n",
    "# Fit the Standard Scaler to the combined features set and transform\n",
    "X_combined = scaler.fit_transform(X_combined)"
   ]
  },
  {
   "cell_type": "code",
   "execution_count": 25,
   "id": "a90d0716",
   "metadata": {},
   "outputs": [],
   "source": [
    "# Reducing dimensionality using TruncatedSVD\n",
    "# TruncatedSVD is used to reduce the dimensionality of the feature set, which can help improve computational efficiency and models performance.\n",
    "svd = TruncatedSVD(n_components=20, random_state=42)\n",
    "# Apply the TruncatedSVD to the concatenated feature set and transform it.\n",
    "# This decreases the dimensionality of the features collection to 20 components.\n",
    "X_combined = svd.fit_transform(X_combined)"
   ]
  },
  {
   "cell_type": "code",
   "execution_count": 26,
   "id": "d4907339",
   "metadata": {},
   "outputs": [],
   "source": [
    "# Split the data into training and test sets\n",
    "X_train, X_test, y_train, y_test = train_test_split(X_combined, y, test_size=0.2, random_state=42)"
   ]
  },
  {
   "cell_type": "code",
   "execution_count": 27,
   "id": "29d1654b",
   "metadata": {},
   "outputs": [],
   "source": [
    "# Address class imbalance using SMOTE\n",
    "# Create an instance for SMOTE\n",
    "smote = SMOTE(random_state=42)\n",
    "# Fit the SMOTE to the training dataset and resample it \n",
    "X_train_resampled, y_train_resampled = smote.fit_resample(X_train, y_train)\n"
   ]
  },
  {
   "cell_type": "code",
   "execution_count": 46,
   "id": "495eb476",
   "metadata": {},
   "outputs": [
    {
     "data": {
      "image/png": "[encoded data removed]",
      "text/plain": [
       "<Figure size 800x600 with 1 Axes>"
      ]
     },
     "metadata": {},
     "output_type": "display_data"
    }
   ],
   "source": [
    "# Visualizing the class distribution after SMOTE\n",
    "# countplot to show class distribution \n",
    "plt.figure(figsize=(8, 6))\n",
    "sns.countplot(x=y_train_resampled)\n",
    "plt.title('Class Distribution After SMOTE')\n",
    "plt.xlabel('Classes')\n",
    "plt.ylabel('Frequency')\n",
    "plt.show()"
   ]
  },
  {
   "cell_type": "code",
   "execution_count": 28,
   "id": "99fee88e",
   "metadata": {},
   "outputs": [
    {
     "data": {
      "text/plain": [
       "RandomForestClassifier(max_depth=20, min_samples_split=5, n_estimators=200,\n",
       "                       random_state=42)"
      ]
     },
     "execution_count": 28,
     "metadata": {},
     "output_type": "execute_result"
    }
   ],
   "source": [
    "# Build and train the RandomForest classifier using the hyperparameters.\n",
    "# Create an instance of RandomForestClassifier with the provided hyperparameters.\n",
    "rf_model = RandomForestClassifier(n_estimators=200, max_depth=20, min_samples_split=5, random_state=42)\n",
    "#Fit the RandomForest model on the resampled training data.\n",
    "# This trains the model with resampled variables and labels.\n",
    "rf_model.fit(X_train_resampled, y_train_resampled)"
   ]
  },
  {
   "cell_type": "code",
   "execution_count": 29,
   "id": "21311f82",
   "metadata": {},
   "outputs": [
    {
     "name": "stdout",
     "output_type": "stream",
     "text": [
      "RandomForest Model\n",
      "Accuracy: 0.8308229398350179\n",
      "Confusion Matrix:\n",
      "[[57328  7985]\n",
      " [ 4033  1692]]\n",
      "Classification Report:\n",
      "              precision    recall  f1-score   support\n",
      "\n",
      "           0       0.93      0.88      0.91     65313\n",
      "           1       0.17      0.30      0.22      5725\n",
      "\n",
      "    accuracy                           0.83     71038\n",
      "   macro avg       0.55      0.59      0.56     71038\n",
      "weighted avg       0.87      0.83      0.85     71038\n",
      "\n"
     ]
    }
   ],
   "source": [
    "# Evaluate the RandomForest model\n",
    "# Model metrics\n",
    "y_pred_rf = rf_model.predict(X_test)\n",
    "print(\"RandomForest Model\")\n",
    "print(f\"Accuracy: {accuracy_score(y_test, y_pred_rf)}\")\n",
    "print(f\"Confusion Matrix:\\n{confusion_matrix(y_test, y_pred_rf)}\")\n",
    "print(f\"Classification Report:\\n{classification_report(y_test, y_pred_rf)}\")\n"
   ]
  },
  {
   "cell_type": "code",
   "execution_count": 30,
   "id": "0622d6a3",
   "metadata": {},
   "outputs": [
    {
     "data": {
      "text/plain": [
       "['churnrf_model.pkl']"
      ]
     },
     "execution_count": 30,
     "metadata": {},
     "output_type": "execute_result"
    }
   ],
   "source": [
    "# Save the RandomForest model\n",
    "joblib.dump(rf_model, 'churnrf_model.pkl')"
   ]
  },
  {
   "cell_type": "code",
   "execution_count": 31,
   "id": "9a52fb89",
   "metadata": {},
   "outputs": [],
   "source": [
    "# Select a small subset of training data\n",
    "# sample_fraction=0.01 indicates that 1% of the resampled train data will be utilized as a sample.\n",
    "sample_fraction = 0.01  \n",
    "X_train_sampled, _, y_train_sampled, _ = train_test_split(X_train_resampled, y_train_resampled, test_size=1-sample_fraction, random_state=42)\n"
   ]
  },
  {
   "cell_type": "code",
   "execution_count": 32,
   "id": "c590bc80",
   "metadata": {},
   "outputs": [],
   "source": [
    "# Build the DNN model\n",
    "dnn_model = Sequential([\n",
    "    Dense(128, activation='relu', input_shape=(X_train_sampled.shape[1],)),\n",
    "    Dropout(0.5),\n",
    "    Dense(64, activation='relu'),\n",
    "    Dropout(0.5),\n",
    "    Dense(32, activation='relu'),\n",
    "    Dense(1, activation='sigmoid')\n",
    "])"
   ]
  },
  {
   "cell_type": "code",
   "execution_count": 33,
   "id": "afeae83b",
   "metadata": {},
   "outputs": [],
   "source": [
    "# Compile the DNN model\n",
    "# Compile the DNN model with the specified optimizer, loss function, and metric\n",
    "dnn_model.compile(optimizer=Adam(learning_rate=0.001), loss='binary_crossentropy', metrics=['accuracy'])"
   ]
  },
  {
   "cell_type": "code",
   "execution_count": 34,
   "id": "61bc5c1a",
   "metadata": {},
   "outputs": [],
   "source": [
    "# defining early stopping\n",
    "early_stopping = EarlyStopping(monitor='val_loss', patience=3, restore_best_weights=True)"
   ]
  },
  {
   "cell_type": "code",
   "execution_count": 35,
   "id": "c3c4d3fe",
   "metadata": {},
   "outputs": [
    {
     "name": "stdout",
     "output_type": "stream",
     "text": [
      "Epoch 1/10\n",
      "131/131 [==============================] - 3s 8ms/step - loss: 0.8307 - accuracy: 0.5063 - val_loss: 0.6937 - val_accuracy: 0.4885\n",
      "Epoch 2/10\n",
      "131/131 [==============================] - 1s 4ms/step - loss: 0.7180 - accuracy: 0.5083 - val_loss: 0.6887 - val_accuracy: 0.5527\n",
      "Epoch 3/10\n",
      "131/131 [==============================] - 1s 4ms/step - loss: 0.7017 - accuracy: 0.5317 - val_loss: 0.6854 - val_accuracy: 0.5546\n",
      "Epoch 4/10\n",
      "131/131 [==============================] - 1s 5ms/step - loss: 0.6964 - accuracy: 0.5344 - val_loss: 0.6861 - val_accuracy: 0.5383\n",
      "Epoch 5/10\n",
      "131/131 [==============================] - 1s 5ms/step - loss: 0.6931 - accuracy: 0.5368 - val_loss: 0.6817 - val_accuracy: 0.5843\n",
      "Epoch 6/10\n",
      "131/131 [==============================] - 1s 4ms/step - loss: 0.6930 - accuracy: 0.5344 - val_loss: 0.6767 - val_accuracy: 0.6006\n",
      "Epoch 7/10\n",
      "131/131 [==============================] - 1s 5ms/step - loss: 0.6915 - accuracy: 0.5262 - val_loss: 0.6859 - val_accuracy: 0.5144\n",
      "Epoch 8/10\n",
      "131/131 [==============================] - 1s 5ms/step - loss: 0.6863 - accuracy: 0.5478 - val_loss: 0.6738 - val_accuracy: 0.6236\n",
      "Epoch 9/10\n",
      "131/131 [==============================] - 1s 4ms/step - loss: 0.6824 - accuracy: 0.5557 - val_loss: 0.6747 - val_accuracy: 0.5996\n",
      "Epoch 10/10\n",
      "131/131 [==============================] - 1s 6ms/step - loss: 0.6843 - accuracy: 0.5535 - val_loss: 0.6707 - val_accuracy: 0.6025\n"
     ]
    },
    {
     "data": {
      "text/plain": [
       "<keras.src.callbacks.History at 0x1cb41200220>"
      ]
     },
     "execution_count": 35,
     "metadata": {},
     "output_type": "execute_result"
    }
   ],
   "source": [
    "# Train the DNN model using the sampled data with early stopping\n",
    "dnn_model.fit(X_train_sampled, y_train_sampled, epochs=10, batch_size=32, validation_split=0.2, callbacks=[early_stopping])"
   ]
  },
  {
   "cell_type": "code",
   "execution_count": 36,
   "id": "a90bdef2",
   "metadata": {},
   "outputs": [],
   "source": [
    "# Evaluate the DNN model\n",
    "#funtion to predict as batches\n",
    "def predict_in_batches(model, X, batch_size=1000):\n",
    "    num_samples = X.shape[0]\n",
    "    # creating an empty list to storec the  predictions\n",
    "    predictions = []\n",
    "    # Iterating over the input data in batches\n",
    "    for start in range(0, num_samples, batch_size):\n",
    "        end = min(start + batch_size, num_samples)\n",
    "        X_batch = X[start:end]\n",
    "        predictions.append(model.predict(X_batch))\n",
    "    return np.vstack(predictions)"
   ]
  },
  {
   "cell_type": "code",
   "execution_count": 37,
   "id": "495d366d",
   "metadata": {},
   "outputs": [
    {
     "name": "stdout",
     "output_type": "stream",
     "text": [
      "32/32 [==============================] - 0s 3ms/step\n",
      "32/32 [==============================] - 0s 3ms/step\n",
      "32/32 [==============================] - 0s 3ms/step\n",
      "32/32 [==============================] - 0s 2ms/step\n",
      "32/32 [==============================] - 0s 3ms/step\n",
      "32/32 [==============================] - 0s 2ms/step\n",
      "32/32 [==============================] - 0s 3ms/step\n",
      "32/32 [==============================] - 0s 2ms/step\n",
      "32/32 [==============================] - 0s 2ms/step\n",
      "32/32 [==============================] - 0s 2ms/step\n",
      "32/32 [==============================] - 0s 3ms/step\n",
      "32/32 [==============================] - 0s 3ms/step\n",
      "32/32 [==============================] - 0s 3ms/step\n",
      "32/32 [==============================] - 0s 2ms/step\n",
      "32/32 [==============================] - 0s 2ms/step\n",
      "32/32 [==============================] - 0s 3ms/step\n",
      "32/32 [==============================] - 0s 2ms/step\n",
      "32/32 [==============================] - 0s 3ms/step\n",
      "32/32 [==============================] - 0s 2ms/step\n",
      "32/32 [==============================] - 0s 2ms/step\n",
      "32/32 [==============================] - 0s 3ms/step\n",
      "32/32 [==============================] - 0s 2ms/step\n",
      "32/32 [==============================] - 0s 2ms/step\n",
      "32/32 [==============================] - 0s 2ms/step\n",
      "32/32 [==============================] - 0s 2ms/step\n",
      "32/32 [==============================] - 0s 2ms/step\n",
      "32/32 [==============================] - 0s 2ms/step\n",
      "32/32 [==============================] - 0s 3ms/step\n",
      "32/32 [==============================] - 0s 2ms/step\n",
      "32/32 [==============================] - 0s 2ms/step\n",
      "32/32 [==============================] - 0s 2ms/step\n",
      "32/32 [==============================] - 0s 2ms/step\n",
      "32/32 [==============================] - 0s 2ms/step\n",
      "32/32 [==============================] - 0s 2ms/step\n",
      "32/32 [==============================] - 0s 2ms/step\n",
      "32/32 [==============================] - 0s 2ms/step\n",
      "32/32 [==============================] - 0s 2ms/step\n",
      "32/32 [==============================] - 0s 2ms/step\n",
      "32/32 [==============================] - 0s 2ms/step\n",
      "32/32 [==============================] - 0s 2ms/step\n",
      "32/32 [==============================] - 0s 2ms/step\n",
      "32/32 [==============================] - 0s 2ms/step\n",
      "32/32 [==============================] - 0s 2ms/step\n",
      "32/32 [==============================] - 0s 2ms/step\n",
      "32/32 [==============================] - 0s 2ms/step\n",
      "32/32 [==============================] - 0s 2ms/step\n",
      "32/32 [==============================] - 0s 2ms/step\n",
      "32/32 [==============================] - 0s 2ms/step\n",
      "32/32 [==============================] - 0s 2ms/step\n",
      "32/32 [==============================] - 0s 3ms/step\n",
      "32/32 [==============================] - 0s 2ms/step\n",
      "32/32 [==============================] - 0s 2ms/step\n",
      "32/32 [==============================] - 0s 2ms/step\n",
      "32/32 [==============================] - 0s 3ms/step\n",
      "32/32 [==============================] - 0s 2ms/step\n",
      "32/32 [==============================] - 0s 2ms/step\n",
      "32/32 [==============================] - 0s 2ms/step\n",
      "32/32 [==============================] - 0s 2ms/step\n",
      "32/32 [==============================] - 0s 2ms/step\n",
      "32/32 [==============================] - 0s 2ms/step\n",
      "32/32 [==============================] - 0s 2ms/step\n",
      "32/32 [==============================] - 0s 2ms/step\n",
      "32/32 [==============================] - 0s 3ms/step\n",
      "32/32 [==============================] - 0s 2ms/step\n",
      "32/32 [==============================] - 0s 3ms/step\n",
      "32/32 [==============================] - 0s 2ms/step\n",
      "32/32 [==============================] - 0s 2ms/step\n",
      "32/32 [==============================] - 0s 2ms/step\n",
      "32/32 [==============================] - 0s 2ms/step\n",
      "32/32 [==============================] - 0s 3ms/step\n",
      "32/32 [==============================] - 0s 2ms/step\n",
      "2/2 [==============================] - 0s 0s/step\n"
     ]
    }
   ],
   "source": [
    "# Predicting the target variable using DNN model in batches.batches\n",
    "y_pred_dnn = (predict_in_batches(dnn_model, X_test) > 0.5).astype(\"int32\")"
   ]
  },
  {
   "cell_type": "code",
   "execution_count": 38,
   "id": "b1cf2905",
   "metadata": {},
   "outputs": [
    {
     "name": "stdout",
     "output_type": "stream",
     "text": [
      "DNN Model\n",
      "Accuracy: 0.5286466398265717\n",
      "Confusion Matrix:\n",
      "[[33590 31723]\n",
      " [ 1761  3964]]\n",
      "Classification Report:\n",
      "              precision    recall  f1-score   support\n",
      "\n",
      "           0       0.95      0.51      0.67     65313\n",
      "           1       0.11      0.69      0.19      5725\n",
      "\n",
      "    accuracy                           0.53     71038\n",
      "   macro avg       0.53      0.60      0.43     71038\n",
      "weighted avg       0.88      0.53      0.63     71038\n",
      "\n"
     ]
    }
   ],
   "source": [
    "# Evaluate the DNN model\n",
    "print(\"DNN Model\")\n",
    "print(f\"Accuracy: {accuracy_score(y_test, y_pred_dnn)}\")\n",
    "print(f\"Confusion Matrix:\\n{confusion_matrix(y_test, y_pred_dnn)}\")\n",
    "print(f\"Classification Report:\\n{classification_report(y_test, y_pred_dnn)}\")"
   ]
  },
  {
   "cell_type": "code",
   "execution_count": 39,
   "id": "20f53d63",
   "metadata": {},
   "outputs": [],
   "source": [
    "# Save the DNN model\n",
    "dnn_model.save('churndnn_model.keras')"
   ]
  },
  {
   "cell_type": "code",
   "execution_count": 40,
   "id": "52ca0f18",
   "metadata": {},
   "outputs": [
    {
     "data": {
      "text/plain": [
       "['churnsvd.pkl']"
      ]
     },
     "execution_count": 40,
     "metadata": {},
     "output_type": "execute_result"
    }
   ],
   "source": [
    "# Save the  preprocessing objects\n",
    "joblib.dump(imputer_numerical, 'churnimputer_numerical.pkl')\n",
    "joblib.dump(imputer_categorical, 'churnimputer_categorical.pkl')\n",
    "joblib.dump(encoder, 'churnencoder.pkl')\n",
    "joblib.dump(scaler, 'churnscaler.pkl')\n",
    "joblib.dump(svd, 'churnsvd.pkl')"
   ]
  },
  {
   "cell_type": "code",
   "execution_count": null,
   "id": "21a33ab0",
   "metadata": {},
   "outputs": [],
   "source": []
  }
 ],
 "metadata": {
  "kernelspec": {
   "display_name": "Python 3 (ipykernel)",
   "language": "python",
   "name": "python3"
  },
  "language_info": {
   "codemirror_mode": {
    "name": "ipython",
    "version": 3
   },
   "file_extension": ".py",
   "mimetype": "text/x-python",
   "name": "python",
   "nbconvert_exporter": "python",
   "pygments_lexer": "ipython3",
   "version": "3.11.5"
  }
 },
 "nbformat": 4,
 "nbformat_minor": 5
}
